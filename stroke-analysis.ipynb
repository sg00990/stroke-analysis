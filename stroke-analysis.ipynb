{
 "cells": [
  {
   "cell_type": "markdown",
   "id": "2651f29c",
   "metadata": {
    "papermill": {
     "duration": 0.00683,
     "end_time": "2023-06-13T23:56:04.971733",
     "exception": false,
     "start_time": "2023-06-13T23:56:04.964903",
     "status": "completed"
    },
    "tags": []
   },
   "source": [
    "In early June 2023, my grandfather had a stroke and it shocked the whole family. I have decided to learn more about the causes and symptoms of strokes to raise awareness. The Stroke Prediction Dataset contains information about gender, age, BMI, glucose levels, occupation and more. I used this dataset to create a simple analysis about trends in strokes. "
   ]
  },
  {
   "cell_type": "markdown",
   "id": "b77ce520",
   "metadata": {
    "papermill": {
     "duration": 0.005016,
     "end_time": "2023-06-13T23:56:04.982264",
     "exception": false,
     "start_time": "2023-06-13T23:56:04.977248",
     "status": "completed"
    },
    "tags": []
   },
   "source": [
    "First, I set up the environment. I used Python to do this."
   ]
  },
  {
   "cell_type": "code",
   "execution_count": 1,
   "id": "46940769",
   "metadata": {
    "_cell_guid": "b1076dfc-b9ad-4769-8c92-a6c4dae69d19",
    "_uuid": "8f2839f25d086af736a60e9eeb907d3b93b6e0e5",
    "execution": {
     "iopub.execute_input": "2023-06-13T23:56:04.993546Z",
     "iopub.status.busy": "2023-06-13T23:56:04.992652Z",
     "iopub.status.idle": "2023-06-13T23:56:05.014684Z",
     "shell.execute_reply": "2023-06-13T23:56:05.013583Z"
    },
    "papermill": {
     "duration": 0.030867,
     "end_time": "2023-06-13T23:56:05.017514",
     "exception": false,
     "start_time": "2023-06-13T23:56:04.986647",
     "status": "completed"
    },
    "tags": []
   },
   "outputs": [
    {
     "name": "stdout",
     "output_type": "stream",
     "text": [
      "/kaggle/input/stroke-prediction-dataset/healthcare-dataset-stroke-data.csv\n"
     ]
    }
   ],
   "source": [
    "# This Python 3 environment comes with many helpful analytics libraries installed\n",
    "# It is defined by the kaggle/python Docker image: https://github.com/kaggle/docker-python\n",
    "# For example, here's several helpful packages to load\n",
    "\n",
    "import numpy as np # linear algebra\n",
    "import pandas as pd # data processing, CSV file I/O (e.g. pd.read_csv)\n",
    "\n",
    "# Input data files are available in the read-only \"../input/\" directory\n",
    "# For example, running this (by clicking run or pressing Shift+Enter) will list all files under the input directory\n",
    "\n",
    "import os\n",
    "for dirname, _, filenames in os.walk('/kaggle/input'):\n",
    "    for filename in filenames:\n",
    "        print(os.path.join(dirname, filename))\n",
    "\n",
    "# You can write up to 20GB to the current directory (/kaggle/working/) that gets preserved as output when you create a version using \"Save & Run All\" \n",
    "# You can also write temporary files to /kaggle/temp/, but they won't be saved outside of the current session"
   ]
  },
  {
   "cell_type": "markdown",
   "id": "b2960b3b",
   "metadata": {
    "papermill": {
     "duration": 0.004065,
     "end_time": "2023-06-13T23:56:05.026620",
     "exception": false,
     "start_time": "2023-06-13T23:56:05.022555",
     "status": "completed"
    },
    "tags": []
   },
   "source": [
    "Next, I read in the CSV file as a pandas dataframe."
   ]
  },
  {
   "cell_type": "code",
   "execution_count": 2,
   "id": "0f69c6df",
   "metadata": {
    "execution": {
     "iopub.execute_input": "2023-06-13T23:56:05.037709Z",
     "iopub.status.busy": "2023-06-13T23:56:05.036900Z",
     "iopub.status.idle": "2023-06-13T23:56:05.078170Z",
     "shell.execute_reply": "2023-06-13T23:56:05.077279Z"
    },
    "papermill": {
     "duration": 0.049887,
     "end_time": "2023-06-13T23:56:05.080861",
     "exception": false,
     "start_time": "2023-06-13T23:56:05.030974",
     "status": "completed"
    },
    "tags": []
   },
   "outputs": [],
   "source": [
    "df = pd.read_csv('/kaggle/input/stroke-prediction-dataset/healthcare-dataset-stroke-data.csv')"
   ]
  },
  {
   "cell_type": "markdown",
   "id": "5d5d7b36",
   "metadata": {
    "papermill": {
     "duration": 0.004085,
     "end_time": "2023-06-13T23:56:05.089429",
     "exception": false,
     "start_time": "2023-06-13T23:56:05.085344",
     "status": "completed"
    },
    "tags": []
   },
   "source": [
    "After creating the dataframe, I converted the \"avg_glucose_level\" column to integers. I also dropped null values in the \"bmi\" column."
   ]
  },
  {
   "cell_type": "code",
   "execution_count": 3,
   "id": "67e6c727",
   "metadata": {
    "execution": {
     "iopub.execute_input": "2023-06-13T23:56:05.100173Z",
     "iopub.status.busy": "2023-06-13T23:56:05.099367Z",
     "iopub.status.idle": "2023-06-13T23:56:05.121601Z",
     "shell.execute_reply": "2023-06-13T23:56:05.120570Z"
    },
    "papermill": {
     "duration": 0.030641,
     "end_time": "2023-06-13T23:56:05.124277",
     "exception": false,
     "start_time": "2023-06-13T23:56:05.093636",
     "status": "completed"
    },
    "tags": []
   },
   "outputs": [],
   "source": [
    "round(df[\"avg_glucose_level\"])\n",
    "df= df.astype({\"avg_glucose_level\": int})"
   ]
  },
  {
   "cell_type": "code",
   "execution_count": 4,
   "id": "b109dda1",
   "metadata": {
    "execution": {
     "iopub.execute_input": "2023-06-13T23:56:05.135317Z",
     "iopub.status.busy": "2023-06-13T23:56:05.134530Z",
     "iopub.status.idle": "2023-06-13T23:56:05.144020Z",
     "shell.execute_reply": "2023-06-13T23:56:05.143083Z"
    },
    "papermill": {
     "duration": 0.017796,
     "end_time": "2023-06-13T23:56:05.146526",
     "exception": false,
     "start_time": "2023-06-13T23:56:05.128730",
     "status": "completed"
    },
    "tags": []
   },
   "outputs": [],
   "source": [
    "df = df.dropna(subset=['bmi'])"
   ]
  },
  {
   "cell_type": "markdown",
   "id": "98778312",
   "metadata": {
    "papermill": {
     "duration": 0.004073,
     "end_time": "2023-06-13T23:56:05.154960",
     "exception": false,
     "start_time": "2023-06-13T23:56:05.150887",
     "status": "completed"
    },
    "tags": []
   },
   "source": [
    "After I cleaned up the data a bit, I downloaded the new dataset and uploaded it to Tableau Public to visualize."
   ]
  },
  {
   "cell_type": "code",
   "execution_count": 5,
   "id": "3aa7361f",
   "metadata": {
    "execution": {
     "iopub.execute_input": "2023-06-13T23:56:05.165780Z",
     "iopub.status.busy": "2023-06-13T23:56:05.164901Z",
     "iopub.status.idle": "2023-06-13T23:56:05.216836Z",
     "shell.execute_reply": "2023-06-13T23:56:05.215780Z"
    },
    "papermill": {
     "duration": 0.060464,
     "end_time": "2023-06-13T23:56:05.219612",
     "exception": false,
     "start_time": "2023-06-13T23:56:05.159148",
     "status": "completed"
    },
    "tags": []
   },
   "outputs": [],
   "source": [
    "df.to_csv('stoke_data_updated.csv', index=False)"
   ]
  },
  {
   "cell_type": "markdown",
   "id": "e4298ac2",
   "metadata": {
    "papermill": {
     "duration": 0.004009,
     "end_time": "2023-06-13T23:56:05.228070",
     "exception": false,
     "start_time": "2023-06-13T23:56:05.224061",
     "status": "completed"
    },
    "tags": []
   },
   "source": [
    "I created four graphs to display some of my findings. Here are a few observations I made:\n",
    "* Strokes occured more for people between the ages of 70 and 80.\n",
    "* Females had a greater chance of experiencing a stroke, but in both cases, people living in urban areas experienced more strokes.\n",
    "* Heart disease and hypertension did not appear to affect the chance of having a stroke.\n",
    "* People with an average glucose level in the 70s experienced more strokes."
   ]
  },
  {
   "cell_type": "code",
   "execution_count": 6,
   "id": "be4af0f2",
   "metadata": {
    "_kg_hide-input": true,
    "execution": {
     "iopub.execute_input": "2023-06-13T23:56:05.240353Z",
     "iopub.status.busy": "2023-06-13T23:56:05.239612Z",
     "iopub.status.idle": "2023-06-13T23:56:05.249430Z",
     "shell.execute_reply": "2023-06-13T23:56:05.248364Z"
    },
    "papermill": {
     "duration": 0.019339,
     "end_time": "2023-06-13T23:56:05.251744",
     "exception": false,
     "start_time": "2023-06-13T23:56:05.232405",
     "status": "completed"
    },
    "tags": []
   },
   "outputs": [
    {
     "data": {
      "text/html": [
       "<div class='tableauPlaceholder' id='viz1686699896834' style='position: relative'><noscript><a href='#'><img alt='Stroke Analysis ' src='https:&#47;&#47;public.tableau.com&#47;static&#47;images&#47;St&#47;StrokeAnalysis_16866691283780&#47;Dashboard1&#47;1_rss.png' style='border: none' /></a></noscript><object class='tableauViz'  style='display:none;'><param name='host_url' value='https%3A%2F%2Fpublic.tableau.com%2F' /> <param name='embed_code_version' value='3' /> <param name='site_root' value='' /><param name='name' value='StrokeAnalysis_16866691283780&#47;Dashboard1' /><param name='tabs' value='no' /><param name='toolbar' value='yes' /><param name='static_image' value='https:&#47;&#47;public.tableau.com&#47;static&#47;images&#47;St&#47;StrokeAnalysis_16866691283780&#47;Dashboard1&#47;1.png' /> <param name='animate_transition' value='yes' /><param name='display_static_image' value='yes' /><param name='display_spinner' value='yes' /><param name='display_overlay' value='yes' /><param name='display_count' value='yes' /><param name='language' value='en-US' /></object></div>                <script type='text/javascript'>                    var divElement = document.getElementById('viz1686699896834');                    var vizElement = divElement.getElementsByTagName('object')[0];                    if ( divElement.offsetWidth > 800 ) { vizElement.style.width='1000px';vizElement.style.height='827px';} else if ( divElement.offsetWidth > 500 ) { vizElement.style.width='1000px';vizElement.style.height='827px';} else { vizElement.style.width='100%';vizElement.style.height='1277px';}                     var scriptElement = document.createElement('script');                    scriptElement.src = 'https://public.tableau.com/javascripts/api/viz_v1.js';                    vizElement.parentNode.insertBefore(scriptElement, vizElement);                </script>\n"
      ],
      "text/plain": [
       "<IPython.core.display.HTML object>"
      ]
     },
     "metadata": {},
     "output_type": "display_data"
    }
   ],
   "source": [
    "%%HTML\n",
    "<div class='tableauPlaceholder' id='viz1686699896834' style='position: relative'><noscript><a href='#'><img alt='Stroke Analysis ' src='https:&#47;&#47;public.tableau.com&#47;static&#47;images&#47;St&#47;StrokeAnalysis_16866691283780&#47;Dashboard1&#47;1_rss.png' style='border: none' /></a></noscript><object class='tableauViz'  style='display:none;'><param name='host_url' value='https%3A%2F%2Fpublic.tableau.com%2F' /> <param name='embed_code_version' value='3' /> <param name='site_root' value='' /><param name='name' value='StrokeAnalysis_16866691283780&#47;Dashboard1' /><param name='tabs' value='no' /><param name='toolbar' value='yes' /><param name='static_image' value='https:&#47;&#47;public.tableau.com&#47;static&#47;images&#47;St&#47;StrokeAnalysis_16866691283780&#47;Dashboard1&#47;1.png' /> <param name='animate_transition' value='yes' /><param name='display_static_image' value='yes' /><param name='display_spinner' value='yes' /><param name='display_overlay' value='yes' /><param name='display_count' value='yes' /><param name='language' value='en-US' /></object></div>                <script type='text/javascript'>                    var divElement = document.getElementById('viz1686699896834');                    var vizElement = divElement.getElementsByTagName('object')[0];                    if ( divElement.offsetWidth > 800 ) { vizElement.style.width='1000px';vizElement.style.height='827px';} else if ( divElement.offsetWidth > 500 ) { vizElement.style.width='1000px';vizElement.style.height='827px';} else { vizElement.style.width='100%';vizElement.style.height='1277px';}                     var scriptElement = document.createElement('script');                    scriptElement.src = 'https://public.tableau.com/javascripts/api/viz_v1.js';                    vizElement.parentNode.insertBefore(scriptElement, vizElement);                </script>"
   ]
  }
 ],
 "metadata": {
  "kernelspec": {
   "display_name": "Python 3",
   "language": "python",
   "name": "python3"
  },
  "language_info": {
   "codemirror_mode": {
    "name": "ipython",
    "version": 3
   },
   "file_extension": ".py",
   "mimetype": "text/x-python",
   "name": "python",
   "nbconvert_exporter": "python",
   "pygments_lexer": "ipython3",
   "version": "3.10.10"
  },
  "papermill": {
   "default_parameters": {},
   "duration": 13.619635,
   "end_time": "2023-06-13T23:56:06.177305",
   "environment_variables": {},
   "exception": null,
   "input_path": "__notebook__.ipynb",
   "output_path": "__notebook__.ipynb",
   "parameters": {},
   "start_time": "2023-06-13T23:55:52.557670",
   "version": "2.4.0"
  }
 },
 "nbformat": 4,
 "nbformat_minor": 5
}
